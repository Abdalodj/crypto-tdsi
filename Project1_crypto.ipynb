{
 "cells": [
  {
   "cell_type": "markdown",
   "metadata": {},
   "source": [
    "> > <h2 style=\"color : #592720; font-size: 60px\">ABDALLAH LODIANE : L3TDSI<h2>"
   ]
  },
  {
   "cell_type": "markdown",
   "metadata": {},
   "source": [
    "<h1>Projetc 1 Crypto</h1>"
   ]
  },
  {
   "cell_type": "markdown",
   "metadata": {},
   "source": [
    "> > <h2 style=\"color : #592720; font-size: 40px\">CHIFFREMENT - DECHIFFREMENT<h2>"
   ]
  },
  {
   "cell_type": "markdown",
   "metadata": {},
   "source": [
    "> > <h2 style=\"color : violet\">FONCTIONS</h2>"
   ]
  },
  {
   "cell_type": "markdown",
   "metadata": {},
   "source": [
    "> > <h2 style=\"color : blue\">Importer à importer</h2>"
   ]
  },
  {
   "cell_type": "code",
   "execution_count": 1,
   "metadata": {},
   "outputs": [],
   "source": [
    "from copy import deepcopy\n",
    "import random"
   ]
  },
  {
   "cell_type": "markdown",
   "metadata": {},
   "source": [
    " > > <h2 style=\"color : blue\">Fonction Utile<h2>"
   ]
  },
  {
   "cell_type": "markdown",
   "metadata": {},
   "source": [
    "### Convertit une chaine en majuscules non accentuées"
   ]
  },
  {
   "cell_type": "code",
   "execution_count": 2,
   "metadata": {},
   "outputs": [],
   "source": [
    "def to_upper(ch):\n",
    "\n",
    "    alpha1 = u\"aàÀâÂäÄåÅbcçÇdeéÉèÈêÊëËfghiîÎïÏjklmnoôÔöÖpqrstuùÙûÛüÜvwxyÿŸz\"\n",
    "    alpha2 = u\"AAAAAAAAABCCCDEEEEEEEEEFGHIIIIIJKLMNOOOOOPQRSTUUUUUUUVWXYYYZ\"\n",
    "    let = \"\"\n",
    "    for c in ch:\n",
    "        k = alpha1.find(c)  # k = indice de \"c\" dans alpha1\n",
    "        if k >= 0:\n",
    "            # \"c\" est dans alpha1: on remplace par le car. correspondant de alpha2\n",
    "            let += alpha2[k]\n",
    "        else:\n",
    "            # \"c\" n'est pas dans alpha1: on le laisse passer\n",
    "            let += c\n",
    "    return let"
   ]
  },
  {
   "cell_type": "markdown",
   "metadata": {},
   "source": [
    "### Calclule le *Déterminant d'une matrice*"
   ]
  },
  {
   "cell_type": "code",
   "execution_count": 3,
   "metadata": {},
   "outputs": [],
   "source": [
    "def det_matrix_2(matrix):\n",
    "    return (matrix[0][0] * matrix[1][1]) - (matrix[1][0] * matrix[0][1])\n",
    "\n",
    "\n",
    "def det_matrix_n(matrix):\n",
    "    det = 0\n",
    "    if len(matrix) == 2:\n",
    "        det = det_matrix_2(matrix)\n",
    "        return det\n",
    "    else:\n",
    "        det_list = []\n",
    "        list_coefficient = matrix[0]\n",
    "        for x in range(len(matrix)):\n",
    "            mat = deepcopy(matrix)\n",
    "            del mat[0]\n",
    "            j = len(mat)\n",
    "            for y in range(j):\n",
    "                del mat[y][x]\n",
    "            det_list.append(det_matrix_n(mat))\n",
    "        for z in range(len(det_list)):\n",
    "            if (z % 2) == 0:\n",
    "                det += list_coefficient[z] * det_list[z]\n",
    "            else:\n",
    "                det += (-list_coefficient[z]) * det_list[z]\n",
    "        return det"
   ]
  },
  {
   "cell_type": "markdown",
   "metadata": {},
   "source": [
    "### Calclule la *Comatrice d'une matrice*"
   ]
  },
  {
   "cell_type": "code",
   "execution_count": 4,
   "metadata": {},
   "outputs": [],
   "source": [
    "def co_matrix_2(matrix):\n",
    "    return [[matrix[1][1], (-(matrix[1][0]))], [(-(matrix[0][1])), matrix[0][0]]]\n",
    "\n",
    "\n",
    "def co_matrix(matrix):\n",
    "    com = []\n",
    "    for w in range(len(matrix)):\n",
    "        mat_list = []\n",
    "        com_2 = []\n",
    "        for x in range(len(matrix)):\n",
    "            mat = deepcopy(matrix)\n",
    "            del mat[w]\n",
    "            j = len(mat)\n",
    "            for y in range(j):\n",
    "                del mat[y][x]\n",
    "            mat_list.append(det_matrix_n(mat))\n",
    "        com.append([mat_list[i] if ((w + i) % 2) == 0 else (-(mat_list[i])) for i in range(len(mat_list))])\n",
    "    return com"
   ]
  },
  {
   "cell_type": "markdown",
   "metadata": {},
   "source": [
    "### Calclule la *transposer d'une matrice*"
   ]
  },
  {
   "cell_type": "code",
   "execution_count": 5,
   "metadata": {},
   "outputs": [],
   "source": [
    "def trans_matrix(matrix):\n",
    "    return [[matrix[y][x] for y in range(len(matrix))] for x in range(len(matrix))]"
   ]
  },
  {
   "cell_type": "markdown",
   "metadata": {},
   "source": [
    "### Calclule *l'inverse du déterminant modulo 26*"
   ]
  },
  {
   "cell_type": "code",
   "execution_count": 6,
   "metadata": {},
   "outputs": [],
   "source": [
    "def reverse_det(det):\n",
    "    i = 1\n",
    "    det_inv = 0\n",
    "    while i <= 25:\n",
    "        if (i * det) % 26 == 1:\n",
    "            det_inv = i\n",
    "            break\n",
    "        i += 1\n",
    "    return det_inv"
   ]
  },
  {
   "cell_type": "markdown",
   "metadata": {},
   "source": [
    "### Calclule *l'inverse de la matrice*"
   ]
  },
  {
   "cell_type": "code",
   "execution_count": 7,
   "metadata": {},
   "outputs": [],
   "source": [
    "def inv_matrix(com_matrix, inv_det):\n",
    "    trans_co_mat = trans_matrix(com_matrix)\n",
    "    return [[(inv_det * trans_co_mat[x][y]) % 26 for y in range(len(trans_co_mat))] for x in range(len(trans_co_mat))]"
   ]
  },
  {
   "cell_type": "markdown",
   "metadata": {},
   "source": [
    "> > <h2 style=\"color : #0048BA\"> FONCTION DE GÉNÉRATION DES CLEFS DE CHIFFREMENT<h2>"
   ]
  },
  {
   "cell_type": "markdown",
   "metadata": {},
   "source": [
    "### Clé de chiffrement par *Décalage*"
   ]
  },
  {
   "cell_type": "code",
   "execution_count": 8,
   "metadata": {},
   "outputs": [],
   "source": [
    "def gen_key_shift():\n",
    "    return random.randint(1, 25)"
   ]
  },
  {
   "cell_type": "markdown",
   "metadata": {},
   "source": [
    "### Clé de chiffrement *Affine*"
   ]
  },
  {
   "cell_type": "code",
   "execution_count": 9,
   "metadata": {},
   "outputs": [],
   "source": [
    "def gen_key_affine():\n",
    "    while True:\n",
    "        key_list = [random.randint(1, 25), random.randint(1, 25)]\n",
    "        if (key_list[0] % 2) == 1:\n",
    "            break\n",
    "    i = 1\n",
    "    while i <= 25:\n",
    "        inv_k = i\n",
    "        if ((inv_k * key_list[0]) % 26) == 1:\n",
    "            key_list.append(inv_k)\n",
    "            break\n",
    "        i += 1\n",
    "    return key_list"
   ]
  },
  {
   "cell_type": "markdown",
   "metadata": {},
   "source": [
    "### Clé de chiffrement par *Substitution*"
   ]
  },
  {
   "cell_type": "code",
   "execution_count": 10,
   "metadata": {},
   "outputs": [],
   "source": [
    "def gen_key_subs():\n",
    "    subs_alpha = []\n",
    "    while True:\n",
    "        str_alpha = \"\".join(subs_alpha)\n",
    "        alpha = chr(random.randint(65, 90))\n",
    "        if str_alpha.find(alpha) == -1:\n",
    "            subs_alpha.append(alpha)\n",
    "            if len(subs_alpha) == 26:\n",
    "                break\n",
    "    return subs_alpha"
   ]
  },
  {
   "cell_type": "markdown",
   "metadata": {},
   "source": [
    "### Clé de chiffrement par *Permutation*"
   ]
  },
  {
   "cell_type": "code",
   "execution_count": 11,
   "metadata": {},
   "outputs": [],
   "source": [
    "def gen_key_perm(height):\n",
    "    key_height = random.randint(2, height)\n",
    "    key = [i for i in range(0, key_height)]\n",
    "    random.shuffle(key)\n",
    "    return key"
   ]
  },
  {
   "cell_type": "markdown",
   "metadata": {},
   "source": [
    "### Clé de chiffrement de *Vigenère*"
   ]
  },
  {
   "cell_type": "code",
   "execution_count": 12,
   "metadata": {},
   "outputs": [],
   "source": [
    "def gen_key_vigenere(height):\n",
    "    key_height = (random.randint(2, height) if height <= 4 else random.randint(2, int(height / 2)))\n",
    "    key = [random.randint(0, 25) for i in range(0, key_height)]\n",
    "    random.shuffle(key)\n",
    "    return key"
   ]
  },
  {
   "cell_type": "markdown",
   "metadata": {},
   "source": [
    "### Clé de chiffrement de *Hill*"
   ]
  },
  {
   "cell_type": "code",
   "execution_count": 13,
   "metadata": {},
   "outputs": [],
   "source": [
    "def gen_key_hill(height):\n",
    "    if height > 4:\n",
    "        tail = random.randint(2, 4)\n",
    "    else:\n",
    "        tail = random.randint(2, height)\n",
    "    inv_det = 0\n",
    "    while True:\n",
    "        matrix = [[random.randint(1, 10) for y in range(tail)] for x in range(tail)]\n",
    "        inv_det = reverse_det(det_matrix_n(matrix))\n",
    "        if inv_det != 0:\n",
    "            break\n",
    "        else:\n",
    "            pass\n",
    "    rev_key_mat = inv_matrix(co_matrix(matrix), inv_det) if tail != 2 else inv_matrix(co_matrix_2(matrix), inv_det)\n",
    "    return matrix, rev_key_mat"
   ]
  },
  {
   "cell_type": "markdown",
   "metadata": {},
   "source": [
    "### Clé de chiffrement de *Vernam*"
   ]
  },
  {
   "cell_type": "code",
   "execution_count": 14,
   "metadata": {},
   "outputs": [],
   "source": [
    "def gen_key_vernam(height):\n",
    "    key = [random.randint(0, 25) for i in range(0, height)]\n",
    "    random.shuffle(key)\n",
    "    return key"
   ]
  },
  {
   "cell_type": "markdown",
   "metadata": {},
   "source": [
    "> > <h2 style=\"color : #0048BA\"> FONCTIONS DE CHIFFREMENTS<h2>"
   ]
  },
  {
   "cell_type": "markdown",
   "metadata": {},
   "source": [
    "> <h3 style=\"color : #B284BE\">CHIFFREMENTS PAR DÉCALAGE<h3>"
   ]
  },
  {
   "cell_type": "code",
   "execution_count": 15,
   "metadata": {},
   "outputs": [],
   "source": [
    "def cypher_shift(key, text):\n",
    "    cypher_letter = []\n",
    "    upper_text = to_upper(text)\n",
    "    upper_text = upper_text.replace(\" \", \"\")\n",
    "    alphabet = [chr(j) for j in range(65, 91)]\n",
    "    for i in range(len(upper_text)):\n",
    "        letter = upper_text[i]\n",
    "        if letter in alphabet:\n",
    "            pos = alphabet.index(letter)\n",
    "            cyp_let = (pos + key) % 25\n",
    "            cypher_letter.append(alphabet[cyp_let])\n",
    "        else:\n",
    "            cypher_letter.append(letter)\n",
    "    return \"\".join(cypher_letter), [i for i in range(0, len(text)) if text[i] == \" \"]"
   ]
  },
  {
   "cell_type": "markdown",
   "metadata": {},
   "source": [
    "> <h3 style=\"color : #B284BE\">CHIFFREMENTS AFFINE<h3>"
   ]
  },
  {
   "cell_type": "code",
   "execution_count": 16,
   "metadata": {},
   "outputs": [],
   "source": [
    "def cypher_affine(key, text):\n",
    "    cypher_letter = []\n",
    "    upper_text = to_upper(text)\n",
    "    alphabet = [chr(j) for j in range(65, 91)]\n",
    "    for i in range(len(text)):\n",
    "        letter = upper_text[i]\n",
    "        if letter in alphabet:\n",
    "            pos = alphabet.index(letter)\n",
    "            cyp_let = ((key[0] * pos) + key[1]) % 26\n",
    "            cypher_letter.append(alphabet[cyp_let])\n",
    "        else:\n",
    "            cypher_letter.append(letter)\n",
    "    return \"\".join(cypher_letter)"
   ]
  },
  {
   "cell_type": "markdown",
   "metadata": {},
   "source": [
    "> <h3 style=\"color : #B284BE\">CHIFFREMENTS PAR SUBSTITUTION<h3>"
   ]
  },
  {
   "cell_type": "code",
   "execution_count": 17,
   "metadata": {},
   "outputs": [],
   "source": [
    "def cypher_subs(key, text):\n",
    "    cypher_letter = []\n",
    "    upper_text = to_upper(text)\n",
    "    alphabet = [chr(j) for j in range(65, 91)]\n",
    "    for x in range(len(text)):\n",
    "        letter = upper_text[x]\n",
    "        if letter in alphabet:\n",
    "            pos = alphabet.index(letter)\n",
    "            cyp_let = key[pos]\n",
    "            cypher_letter.append(cyp_let)\n",
    "        else:\n",
    "            cypher_letter.append(letter)\n",
    "    return \"\".join(cypher_letter)"
   ]
  },
  {
   "cell_type": "markdown",
   "metadata": {},
   "source": [
    "> <h3 style=\"color : #B284BE\">CHIFFREMENTS PAR PERMUTATION<h3>"
   ]
  },
  {
   "cell_type": "code",
   "execution_count": 18,
   "metadata": {},
   "outputs": [],
   "source": [
    "def cypher_perm(key, text):\n",
    "    cypher_letter = []\n",
    "    upper_text = to_upper(text)\n",
    "    if len(text) % len(key) == 0:\n",
    "        for x in range(0, len(text), len(key)):\n",
    "            bloc = upper_text[x:(len(key) + x)]\n",
    "            cypher_letter += [bloc[key[i]] for i in range(len(key))]\n",
    "    else:\n",
    "        upper_text += \"X\" * (len(key) - (len(text) % len(key)))\n",
    "        for x in range(0, (len(text) + 1), len(key)):\n",
    "            bloc = upper_text[x:(len(key) + x)]\n",
    "            cypher_letter += [bloc[key[i]] for i in range(len(key))]\n",
    "    return \"\".join(cypher_letter)"
   ]
  },
  {
   "cell_type": "markdown",
   "metadata": {},
   "source": [
    "> <h3 style=\"color : #B284BE\">CHIFFREMENTS DE VIGENERE<h3>"
   ]
  },
  {
   "cell_type": "code",
   "execution_count": 19,
   "metadata": {},
   "outputs": [],
   "source": [
    "def cypher_vigenere(key, text):\n",
    "    cypher_letter = []\n",
    "    upper_text = to_upper(text)\n",
    "    space = [i for i in range(0, len(text)) if upper_text[i] == \" \"]\n",
    "    upper_text = upper_text.replace(\" \", \"\")\n",
    "    alphabet = [chr(j) for j in range(65, 91)]\n",
    "    if len(upper_text) % len(key) == 0:\n",
    "        for x in range(0, len(upper_text), len(key)):\n",
    "            bloc = upper_text[x:(len(key) + x)]\n",
    "            cypher_letter += [alphabet[((alphabet.index(bloc[i]) + key[i]) % 26)] if bloc[i] in alphabet else bloc[i]\n",
    "                              for i in range(len(key))]\n",
    "    else:\n",
    "        upper_text += \"X\" * (len(key) - (len(upper_text) % len(key)))\n",
    "        for x in range(0, (len(upper_text)), len(key)):\n",
    "            bloc = upper_text[x:(len(key) + x)]\n",
    "            cypher_letter += [alphabet[((alphabet.index(bloc[i]) + key[i]) % 26)] if bloc[i] in alphabet else bloc[i]\n",
    "                              for i in range(len(key))]\n",
    "    return \"\".join(cypher_letter), space"
   ]
  },
  {
   "cell_type": "markdown",
   "metadata": {},
   "source": [
    "> <h3 style=\"color : #B284BE\">CHIFFREMENTS DE HILL<h3>"
   ]
  },
  {
   "cell_type": "code",
   "execution_count": 20,
   "metadata": {},
   "outputs": [],
   "source": [
    "def cypher_hill(text, key):\n",
    "    cypher_letter = []\n",
    "    upper_text = to_upper(text)\n",
    "    alphabet = [chr(j) for j in range(65, 91)]\n",
    "    upper_text = [upper_text[i] if upper_text[i] in alphabet else (\" \" if upper_text[i] == \" \" else \"\") for i in\n",
    "                  range(len(upper_text))]\n",
    "    upper_text = \"\".join(upper_text)\n",
    "    space = [i for i in range(0, len(upper_text)) if upper_text[i] == \" \"]\n",
    "    upper_text = upper_text.replace(\" \", \"\")\n",
    "    tail = len(upper_text)\n",
    "    if len(upper_text) % len(key) == 0:\n",
    "        for x in range(0, len(upper_text), len(key)):\n",
    "            bloc = upper_text[x:(len(key) + x)]\n",
    "            for y in range(len(key)):\n",
    "                ciphered = 0\n",
    "                char = \"\"\n",
    "                for z in range(len(key)):\n",
    "                    if bloc[z] in alphabet:\n",
    "                        ciphered += key[y][z] * alphabet.index(bloc[z])\n",
    "                cypher_letter.append(char if char != \"\" else alphabet[(ciphered % 26)])\n",
    "    else:\n",
    "        upper_text += \"X\" * (len(key) - (len(upper_text) % len(key)))\n",
    "        for x in range(0, (len(upper_text)), len(key)):\n",
    "            bloc = upper_text[x:(len(key) + x)]\n",
    "            for y in range(len(key)):\n",
    "                ciphered = 0\n",
    "                char = \"\"\n",
    "                for z in range(len(key)):\n",
    "                    if bloc[z] in alphabet:\n",
    "                        ciphered += key[y][z] * alphabet.index(bloc[z])\n",
    "                cypher_letter.append(char if char != \"\" else alphabet[(ciphered % 26)])\n",
    "    return \"\".join(cypher_letter), space, tail"
   ]
  },
  {
   "cell_type": "markdown",
   "metadata": {},
   "source": [
    "> <h3 style=\"color : #B284BE\">CHIFFREMENTS DE VERNAM<h3>"
   ]
  },
  {
   "cell_type": "code",
   "execution_count": 21,
   "metadata": {},
   "outputs": [],
   "source": [
    "def cypher_vernam(key, text):\n",
    "    cypher_letter = []\n",
    "    upper_text = to_upper(text)\n",
    "    space = [i for i in range(0, len(text)) if upper_text[i] == \" \"]\n",
    "    upper_text = upper_text.replace(\" \", \"\")\n",
    "    alphabet = [chr(j) for j in range(65, 91)]\n",
    "    for x in range(0, len(upper_text), len(key)):\n",
    "        bloc = upper_text[x:(len(key) + x)]\n",
    "        cypher_letter += [alphabet[((alphabet.index(bloc[i]) + key[i]) % 25)] if bloc[i] in alphabet else bloc[i] for i\n",
    "                          in range(len(key))]\n",
    "    return \"\".join(cypher_letter), space"
   ]
  },
  {
   "cell_type": "markdown",
   "metadata": {},
   "source": [
    "> > <h2 style=\"color : #0048BA\"> FONCTIONS DE DÉCHIFFREMENTS<h2>"
   ]
  },
  {
   "cell_type": "markdown",
   "metadata": {},
   "source": [
    "> <h3 style=\"color : #B284BE\">DÉCHIFFREMENTS PAR DÉCALAGE<h3>"
   ]
  },
  {
   "cell_type": "code",
   "execution_count": 22,
   "metadata": {},
   "outputs": [],
   "source": [
    "def decipher_shift(key, text, space):\n",
    "    decipher_letter = []\n",
    "    upper_text = to_upper(text)\n",
    "    alphabet = [chr(j) for j in range(65, 91)]\n",
    "    for i in range(len(text)):\n",
    "        letter = upper_text[i]\n",
    "        if letter in alphabet:\n",
    "            pos = alphabet.index(letter)\n",
    "            cyp_let = (pos - key) % 25\n",
    "            decipher_letter.append(alphabet[cyp_let])\n",
    "        else:\n",
    "            decipher_letter.append(letter)\n",
    "    for i in range(len(space)):\n",
    "        decipher_letter.insert(space[i], \" \")\n",
    "    return \"\".join(decipher_letter)"
   ]
  },
  {
   "cell_type": "markdown",
   "metadata": {},
   "source": [
    "> <h3 style=\"color : #B284BE\">DÉCHIFFREMENTS AFFINE<h3>"
   ]
  },
  {
   "cell_type": "code",
   "execution_count": 23,
   "metadata": {},
   "outputs": [],
   "source": [
    "def decipher_affine(key, text):\n",
    "    cypher_letter = []\n",
    "    upper_text = to_upper(text)\n",
    "    alphabet = [chr(j) for j in range(65, 91)]\n",
    "    for i in range(len(text)):\n",
    "        letter = upper_text[i]\n",
    "        if letter in alphabet:\n",
    "            pos = alphabet.index(letter)\n",
    "            cyp_let = (key[2] * (pos - key[1])) % 26\n",
    "            cypher_letter.append(alphabet[cyp_let])\n",
    "        else:\n",
    "            cypher_letter.append(letter)\n",
    "    return \"\".join(cypher_letter)"
   ]
  },
  {
   "cell_type": "markdown",
   "metadata": {},
   "source": [
    "> <h3 style=\"color : #B284BE\">DÉCHIFFREMENTS PAR SUBSTITUTION<h3>"
   ]
  },
  {
   "cell_type": "code",
   "execution_count": 24,
   "metadata": {},
   "outputs": [],
   "source": [
    "def decipher_subs(key, text):\n",
    "    cypher_letter = []\n",
    "    upper_text = to_upper(text)\n",
    "    alphabet = [chr(j) for j in range(65, 91)]\n",
    "    for x in range(len(text)):\n",
    "        letter = upper_text[x]\n",
    "        if letter in alphabet:\n",
    "            pos = key.index(letter)\n",
    "            cyp_let = alphabet[pos]\n",
    "            cypher_letter.append(cyp_let)\n",
    "        else:\n",
    "            cypher_letter.append(letter)\n",
    "    return \"\".join(cypher_letter)"
   ]
  },
  {
   "cell_type": "markdown",
   "metadata": {},
   "source": [
    "> <h3 style=\"color : #B284BE\">DÉCHIFFREMENTS PAR PERMUTATION<h3>"
   ]
  },
  {
   "cell_type": "code",
   "execution_count": 25,
   "metadata": {},
   "outputs": [],
   "source": [
    "def decipher_perm(key, text, or_height):\n",
    "    decipher_letter = []\n",
    "    upper_text = text\n",
    "    if len(text) == or_height:\n",
    "        for x in range(0, len(text), len(key)):\n",
    "            bloc = upper_text[x:(len(key) + x)]\n",
    "            decipher_letter += [bloc[key.index(i)] for i in range(len(key))]\n",
    "    else:\n",
    "        for x in range(0, (len(text) - 1), len(key)):\n",
    "            bloc = upper_text[x:(len(key) + x)]\n",
    "            decipher_letter += [bloc[key.index(i)] for i in range(len(key))]\n",
    "        decipher_letter = decipher_letter[: or_height]\n",
    "    return \"\".join(decipher_letter)"
   ]
  },
  {
   "cell_type": "markdown",
   "metadata": {},
   "source": [
    "> <h3 style=\"color : #B284BE\">DÉCHIFFREMENTS DE VIGENERE<h3>"
   ]
  },
  {
   "cell_type": "code",
   "execution_count": 26,
   "metadata": {},
   "outputs": [],
   "source": [
    "def decipher_vigenere(key, text, or_height, space):\n",
    "    decipher_letter = []\n",
    "    upper_text = text.replace(\" \", \"\")\n",
    "    alphabet = [chr(j) for j in range(65, 91)]\n",
    "    if len(upper_text) == or_height:\n",
    "        for x in range(0, len(upper_text), len(key)):\n",
    "            bloc = upper_text[x:(len(key) + x)]\n",
    "            decipher_letter += [alphabet[((alphabet.index(bloc[i]) - key[i]) % 26)] if bloc[i] in alphabet else bloc[i]\n",
    "                                for i in range(len(key))]\n",
    "    else:\n",
    "        for x in range(0, (len(upper_text) - 1), len(key)):\n",
    "            bloc = upper_text[x:(len(key) + x)]\n",
    "            decipher_letter += [alphabet[((alphabet.index(bloc[i]) - key[i]) % 26)] if bloc[i] in alphabet else bloc[i]\n",
    "                                for i in range(len(key))]\n",
    "    for i in range(len(space)):\n",
    "        decipher_letter.insert(space[i], \" \")\n",
    "    decipher_letter = decipher_letter[: or_height]\n",
    "    return \"\".join(decipher_letter)"
   ]
  },
  {
   "cell_type": "markdown",
   "metadata": {},
   "source": [
    "> <h3 style=\"color : #B284BE\">DÉCHIFFREMENTS DE HILL<h3>"
   ]
  },
  {
   "cell_type": "code",
   "execution_count": 27,
   "metadata": {},
   "outputs": [],
   "source": [
    "def decipher_hill(text, key, space, or_height):\n",
    "    decipher_letter = []\n",
    "    upper_text = text.replace(\" \", \"\")\n",
    "    alphabet = [chr(j) for j in range(65, 91)]\n",
    "    if len(upper_text) == or_height:\n",
    "        for x in range(0, len(upper_text), len(key)):\n",
    "            bloc = upper_text[x:(len(key) + x)]\n",
    "            for y in range(len(key)):\n",
    "                ciphered = 0\n",
    "                char = \"\"\n",
    "                for z in range(len(key)):\n",
    "                    if bloc[z] in alphabet:\n",
    "                        ciphered += key[y][z] * alphabet.index(bloc[z])\n",
    "                    else:\n",
    "                        char = bloc[z]\n",
    "                decipher_letter.append(char if char != \"\" else alphabet[(ciphered % 26)])\n",
    "    else:\n",
    "        for x in range(0, (len(upper_text)), len(key)):\n",
    "            bloc = upper_text[x:(len(key) + x)]\n",
    "            for y in range(len(key)):\n",
    "                ciphered = 0\n",
    "                char = \"\"\n",
    "                for z in range(len(key)):\n",
    "                    if bloc[z] in alphabet:\n",
    "                        ciphered += key[y][z] * alphabet.index(bloc[z])\n",
    "                    else:\n",
    "                        char = bloc[z]\n",
    "                decipher_letter.append(char if char != \"\" else alphabet[(ciphered % 26)])\n",
    "    decipher_letter = decipher_letter[: or_height]\n",
    "    for i in range(len(space)):\n",
    "        decipher_letter.insert(space[i], \" \")\n",
    "    return \"\".join(decipher_letter)"
   ]
  },
  {
   "cell_type": "markdown",
   "metadata": {},
   "source": [
    "> <h3 style=\"color : #B284BE\">DÉCHIFFREMENTS DE VERNAM<h3>"
   ]
  },
  {
   "cell_type": "code",
   "execution_count": 28,
   "metadata": {},
   "outputs": [],
   "source": [
    "def decipher_vernam(key, text, space):\n",
    "    decipher_letter = []\n",
    "    upper_text = text.replace(\" \", \"\")\n",
    "    alphabet = [chr(j) for j in range(65, 91)]\n",
    "    for x in range(0, len(upper_text), len(key)):\n",
    "        bloc = upper_text[x:(len(key) + x)]\n",
    "        decipher_letter += [alphabet[((alphabet.index(bloc[i]) - key[i]) % 25)] if bloc[i] in alphabet else bloc[i]\n",
    "                            for i in range(len(key))]\n",
    "    for i in range(len(space)):\n",
    "        decipher_letter.insert(space[i], \" \")\n",
    "    return \"\".join(decipher_letter)"
   ]
  },
  {
   "cell_type": "markdown",
   "metadata": {},
   "source": [
    "> > <h2 style=\"color : #D3212D\"> MENU PRINCIPALE<h2>"
   ]
  },
  {
   "cell_type": "code",
   "execution_count": null,
   "metadata": {
    "scrolled": true
   },
   "outputs": [
    {
     "name": "stdout",
     "output_type": "stream",
     "text": [
      "\n",
      "\t\t\t WELCOM TO YOUR CYPHER AND DECIPHER PROGRAM \n",
      "\n",
      "\n",
      "\t\t\t\t MENU \n",
      "\n",
      "1. SHIFT CYPHER\n",
      "2. AFFINE CYPHER\n",
      "3. SUBSTITUTION CYPHER\n",
      "4. PERMUTATION\n",
      "5. VIGENERE CYPHER\n",
      "6. HILL CYPHER\n",
      "7. VERNAM CYPHER\n"
     ]
    }
   ],
   "source": [
    "print(\"\\n\\t\\t\\t WELCOM TO YOUR CYPHER AND DECIPHER PROGRAM \\n\")\n",
    "print(\"\\n\\t\\t\\t\\t MENU \\n\")\n",
    "print(\"1. SHIFT CYPHER\")\n",
    "print(\"2. AFFINE CYPHER\")\n",
    "print(\"3. SUBSTITUTION CYPHER\")\n",
    "print(\"4. PERMUTATION\")\n",
    "print(\"5. VIGENERE CYPHER\")\n",
    "print(\"6. HILL CYPHER\")\n",
    "print(\"7. VERNAM CYPHER\")\n",
    "while True:\n",
    "    choice = input(\"Enter your choice (or 8 to quit): \")\n",
    "    try:\n",
    "        choice = int(choice)\n",
    "        if 0 < choice < 9:\n",
    "            break\n",
    "        else:\n",
    "            print(\"The number your entered is not on the range\")\n",
    "    except ValueError:\n",
    "        print(\"what you enter is not a number\\n\")\n",
    "\n",
    "if choice == 1:\n",
    "    print(\"\\t\\t\\tWELCOME TO THE SHIFT ENCRYPTION MODULE\")\n",
    "    plain_text = input(\"Enter your message : \")\n",
    "    enc_key = gen_key_shift()\n",
    "    encrypt, spaces = cypher_shift(enc_key, plain_text)\n",
    "    decrypt = decipher_shift(enc_key, encrypt, spaces)\n",
    "\n",
    "    print(\"Your message was : {}\\nThe encrypted message is : {}\\n\"\n",
    "          \"After decryption we have : {}\".format(plain_text, encrypt, decrypt))\n",
    "elif choice == 2:\n",
    "    print(\"\\t\\t\\tWELCOME TO THE AFFINE ENCRYPTION MODULE\")\n",
    "    plain_text = input(\"Enter your message : \")\n",
    "    enc_key = gen_key_affine()\n",
    "    encrypt = cypher_affine(enc_key, plain_text)\n",
    "    decrypt = decipher_affine(enc_key, encrypt)\n",
    "\n",
    "    print(\"Your message was : {}\\nWith the encryption key a = {} and b = {}\\nThe encrypted message is : {}\\n\"\n",
    "      \"After decryption we have : {}\".format(plain_text, enc_key[0], enc_key[1], encrypt, decrypt))\n",
    "elif choice == 3:\n",
    "    print(\"\\t\\t\\tWELCOME TO THE SUBSTITUTION ENCRYPTION MODULE\")\n",
    "    plain_text = input(\"Enter your message : \")\n",
    "    enc_key = gen_key_subs()\n",
    "    encrypt = cypher_subs(enc_key, plain_text)\n",
    "    decrypt = decipher_subs(enc_key, encrypt)\n",
    "\n",
    "    print(\"Your message was : {}\\nThe encrypted message is : {}\\n\"\n",
    "          \"After decryption we have : {}\".format(plain_text, encrypt, decrypt))\n",
    "elif choice == 4:\n",
    "    print(\"\\t\\t\\tWELCOME TO THE PERMUTATION ENCRYPTION MODULE\")\n",
    "    plain_text = input(\"Enter your message : \")\n",
    "    enc_key = gen_key_perm(len(plain_text))\n",
    "    encrypt = cypher_perm(enc_key, plain_text)\n",
    "    decrypt = decipher_perm(enc_key, encrypt, len(plain_text))\n",
    "\n",
    "    print(\"Your message was : {}\\nWith the key : {}\\nThe encrypted message is : {}\\n\"\n",
    "          \"After decryption we have : {}\".format(plain_text, enc_key, encrypt, decrypt))\n",
    "elif choice == 5:\n",
    "    print(\"\\t\\t\\tWELCOME TO THE VIGENERE ENCRYPTION MODULE\")\n",
    "    plain_text = input(\"Enter your message : \")\n",
    "    enc_key = gen_key_vigenere(len(plain_text.replace(\" \", \"\")))\n",
    "    encrypt, spaces = cypher_vigenere(enc_key, plain_text)\n",
    "    decrypt = decipher_vigenere(enc_key, encrypt, len(plain_text), spaces)\n",
    "\n",
    "    print(\"Your message was : {}\\nWith the key : {}\\nThe encrypted message is : {}\\n\"\n",
    "          \"After decryption we have : {}\".format(plain_text, enc_key, encrypt, decrypt))\n",
    "elif choice == 6:\n",
    "    print(\"\\t\\t\\tWELCOME TO THE HILL ENCRYPTION MODULE\")\n",
    "    plain_text = input(\"Enter your message : \")\n",
    "    enc_key, dec_key = gen_key_hill(len(plain_text))\n",
    "    encrypt, spaces, heights = cypher_hill(plain_text, enc_key)\n",
    "    decrypt = decipher_hill(encrypt, dec_key, spaces, heights)\n",
    "    print(\"Your message was {}\\n With the encryption key \\n{}\\nThe encrypted message is : {} \\nand with the decryption \"\n",
    "          \"key is\\n{}\\nWe have : {}\".format(plain_text, enc_key, encrypt, dec_key, decrypt))\n",
    "elif choice == 7:\n",
    "    print(\"\\t\\t\\tWELCOME TO THE VERNAM ENCRYPTION MODULE\")\n",
    "    plain_text = input(\"Enter your message : \")\n",
    "    enc_key = gen_key_vernam(len(plain_text.replace(\" \", \"\")))\n",
    "    encrypt, spaces = cypher_vernam(enc_key, plain_text)\n",
    "    decrypt = decipher_vernam(enc_key, encrypt, spaces)\n",
    "\n",
    "    print(\"Your message was : {}\\nWith the key : {}\\nThe encrypted message is : {}\\n\"\n",
    "          \"After decryption we have : {}\".format(plain_text, enc_key, encrypt, decrypt))\n",
    "else:\n",
    "    pass"
   ]
  },
  {
   "cell_type": "markdown",
   "metadata": {},
   "source": [
    "> > <h2 style=\"color : #592720; font-size: 60px\"> CRYPTANALYSE<h2>"
   ]
  },
  {
   "cell_type": "code",
   "execution_count": null,
   "metadata": {},
   "outputs": [],
   "source": [
    "message = \"DKR XKPGWKR MPIKUPKR WJPRIMIQKPI QP ZKR HDQR VUJR UMRSQKR HJQU\\nIJQIKR DKR JUVGPMRGIMJPR N WJXHUMR WKDDKR \" \\\n",
    "          \"GQ RKPKVGD DKR KXHDJNKR ZKR JUVGPMRGIMJPR GNGPI GWWKR GQY RNRIKXKR KI GQY ZJPPKKR WUMIMSQKR RJPI KQYXKXKR \" \\\n",
    "          \"QPK XKPGWK WGU HJQAGPI WGQRKU ZKR\\nZJXXGVKR BMPGPWMKUR KI ZKR ZJXXGVKR G DG UKHQIGIMJP G IUGAKUR DK\\nAJD \" \\\n",
    "          \"ZK ZJPPKKR RKPRMODKR WKR KXHDJNKR HKQAKPI KVGDKXKPI QIMDMRKU DKQU WJPPGMRRGPWK ZK DJUVGPMRGIMJP ZGPR DK \" \\\n",
    "          \"OQI ZK HKUXKIIUK JQ ZK HKUHKIUKU QPK GIIGSQK AMRGPI G HKUIQUOKU DK OJP BJPWIMJPPKXKPI ZK DKQU JUVGPMRGIMJP \" \\\n",
    "          \"JQIUK WKR GWIKR ZKDMOKUKR DKR\\nKXHDJNKR HKQAKPI WGQRKU ZKR ZJXXGVKR HGU MPGZAKUIGPWK ZQ BGMI\\nZK DKQU \" \\\n",
    "          \"MVPJUGPWK ZKR HUJWKZQUKR ZK RKWQUMIK ZK DJUVGPMRGIMJP\\nPJIGXXKPI HGU DK IKDKWFGUVKXKPI ZKR WJPIKPQR PJP \" \\\n",
    "          \"RQUR DQRGVK ZK\\nHKUMHFKUMSQKR MPBKWIKR JQ KP JQAUGPI ZQ WJQUUMKD ZFGXKWJPPGVK\\nWKR KXHDJNKR HKQAKPI \" \\\n",
    "          \"KVGDKXKPI ZKAKPMU ZKR AMWIMXKR ZGWIKR\\nZMPVKPMKUMK RJWMGDK G IUGAKUR DKRSQKDR MDR ZJPPKPI GDJUR \" \\\n",
    "          \"HGU\\nMVPJUGPWK GWWKR G DKQUR UKRKGQY JQ KYKWQIKPI ZKR MPRIUQWIMJPR\\nGQY GHHGUKPWKR MPJBBKPRMAKR XGMR \" \\\n",
    "          \"HUJBMIGPI GQY WNOKUWUMXMPKDR G WKI KVGUZ DG HUKRMZKPWK ZK DG UKHQODMSQK GVMRRGPI HGU\\nDMPIKUXKZMGMUK ZK DG \" \\\n",
    "          \"WJXXMRRMJP PGIMJPGDK ZK WUNHIJDJVMK WPW G\\nHUMR DKR ZKAGPIR KI G HUKRWUMI ZKR XKRQUKR ZKIGMDDKKR \" \\\n",
    "          \"UKDGIMAKR\\nG DG HJDMIMSQK ZK RKWQUMIK ZKR RNRIKXKR ZMPBJUXGIMJP ZK DKIGI ZQ\\nRKPKVGD HRRMKR \"\n",
    "freq_alph =\\\n",
    "{'A': 8.2,\n",
    "'B': 1.5,\n",
    "'C': 2.8,\n",
    "'D': 4.18,\n",
    "'E': 17.3,\n",
    "'F': 1.12,\n",
    "'G': 1.27,\n",
    "'H': 0.92,\n",
    "'I': 7.34,\n",
    "'J': 0.31,\n",
    "'K': 0.05,\n",
    "'L': 6.01,\n",
    "'M': 2.96,\n",
    "'N': 7.13,\n",
    "'O': 5.26,\n",
    "'P': 3.01,\n",
    "'Q': 0.99,\n",
    "'R': 6.55,\n",
    "'S': 8.1,\n",
    "'T': 7.07,\n",
    "'U': 5.74,\n",
    "'V': 1.32,\n",
    "'W': 0.04,\n",
    "'X': 0.45,\n",
    "'Y': 0.30,\n",
    "'Z': 0.12}\n",
    "list_freq = []\n",
    "for key in freq_alph:\n",
    "    list_freq.append([freq_alph[key], key])\n",
    "\n",
    "list_freq.sort()\n",
    "list_freq.reverse()\n",
    "print(message, \"\\n\", freq_alph)\n",
    "print(list_freq)"
   ]
  },
  {
   "cell_type": "code",
   "execution_count": null,
   "metadata": {},
   "outputs": [],
   "source": [
    "msg = message\n",
    "msg_test1 = msg.replace(\"\\n\",\"--|--\")\n",
    "msg_test2 = msg_test1\n",
    "msg_test1 = msg_test1.replace(\" \",\"\")\n",
    "print(msg_test2)"
   ]
  },
  {
   "cell_type": "code",
   "execution_count": null,
   "metadata": {},
   "outputs": [],
   "source": [
    "list_char_msg = list(msg_test1)\n",
    "alphabet = [chr(j) for j in range(65, 91)]\n",
    "dico_cyphLetter_occur = {}\n",
    "for letter in alphabet:\n",
    "    dico_cyphLetter_occur[letter] = list_char_msg.count(letter)\n",
    "\n",
    "print(dico_cyphLetter_occur)"
   ]
  },
  {
   "cell_type": "code",
   "execution_count": null,
   "metadata": {},
   "outputs": [],
   "source": [
    "dico_cyphLetter_freq = {}\n",
    "list_cyphLetter_freq = []\n",
    "for key in dico_cyphLetter_occur:\n",
    "    val = \"{:.3f}\".format((dico_cyphLetter_occur[key] * 100) / len(list_char_msg))\n",
    "    dico_cyphLetter_freq[key] = float(val)\n",
    "    list_cyphLetter_freq.append([float(val), key])\n",
    "\n",
    "list_cyphLetter_freq.sort()\n",
    "list_cyphLetter_freq.reverse()\n",
    "print(dico_cyphLetter_freq,\"\\n\\n\\n\", list_freq,\"\\n\\n\\n\",list_cyphLetter_freq)"
   ]
  },
  {
   "cell_type": "code",
   "execution_count": null,
   "metadata": {},
   "outputs": [],
   "source": [
    "for x in range(len(list_freq)):\n",
    "    print(\"{}\\t-->\\t{}\".format(list_freq[x], list_cyphLetter_freq[x]))"
   ]
  },
  {
   "cell_type": "code",
   "execution_count": null,
   "metadata": {},
   "outputs": [],
   "source": [
    "dico_cypher_letter = {}\n",
    "list_cypher_letter = []\n",
    "for x in range(len(list_freq)):\n",
    "    dico_cypher_letter[list_freq[x][1]] = list_cyphLetter_freq[x][1]\n",
    "    list_cypher_letter.append([list_freq[x][1], list_cyphLetter_freq[x][1]])\n",
    "    \n",
    "print(dico_cypher_letter,\"\\n\\n\\n\")\n",
    "list_cypher_letter.sort()\n",
    "for x in range(len(list_cypher_letter)):\n",
    "    print(\"{}\".format(list_cypher_letter[x]))"
   ]
  },
  {
   "cell_type": "code",
   "execution_count": 49,
   "metadata": {},
   "outputs": [
    {
     "name": "stdout",
     "output_type": "stream",
     "text": [
      "DKR XKPGWKR MPIKUPKR WJPRIMIQKPI QP ZKR HDQR VUJR UMRSQKR HJQU--|--IJQIKR DKR JUVGPMRGIMJPR N WJXHUMR WKDDKR GQ RKPKVGD DKR KXHDJNKR ZKR JUVGPMRGIMJPR GNGPI GWWKR GQY RNRIKXKR KI GQY ZJPPKKR WUMIMSQKR RJPI KQYXKXKR QPK XKPGWK WGU HJQAGPI WGQRKU ZKR--|--ZJXXGVKR BMPGPWMKUR KI ZKR ZJXXGVKR G DG UKHQIGIMJP G IUGAKUR DK--|--AJD ZK ZJPPKKR RKPRMODKR WKR KXHDJNKR HKQAKPI KVGDKXKPI QIMDMRKU DKQU WJPPGMRRGPWK ZK DJUVGPMRGIMJP ZGPR DK OQI ZK HKUXKIIUK JQ ZK HKUHKIUKU QPK GIIGSQK AMRGPI G HKUIQUOKU DK OJP BJPWIMJPPKXKPI ZK DKQU JUVGPMRGIMJP JQIUK WKR GWIKR ZKDMOKUKR DKR--|--KXHDJNKR HKQAKPI WGQRKU ZKR ZJXXGVKR HGU MPGZAKUIGPWK ZQ BGMI--|--ZK DKQU MVPJUGPWK ZKR HUJWKZQUKR ZK RKWQUMIK ZK DJUVGPMRGIMJP--|--PJIGXXKPI HGU DK IKDKWFGUVKXKPI ZKR WJPIKPQR PJP RQUR DQRGVK ZK--|--HKUMHFKUMSQKR MPBKWIKR JQ KP JQAUGPI ZQ WJQUUMKD ZFGXKWJPPGVK--|--WKR KXHDJNKR HKQAKPI KVGDKXKPI ZKAKPMU ZKR AMWIMXKR ZGWIKR--|--ZMPVKPMKUMK RJWMGDK G IUGAKUR DKRSQKDR MDR ZJPPKPI GDJUR HGU--|--MVPJUGPWK GWWKR G DKQUR UKRKGQY JQ KYKWQIKPI ZKR MPRIUQWIMJPR--|--GQY GHHGUKPWKR MPJBBKPRMAKR XGMR HUJBMIGPI GQY WNOKUWUMXMPKDR G WKI KVGUZ DG HUKRMZKPWK ZK DG UKHQODMSQK GVMRRGPI HGU--|--DMPIKUXKZMGMUK ZK DG WJXXMRRMJP PGIMJPGDK ZK WUNHIJDJVMK WPW G--|--HUMR DKR ZKAGPIR KI G HUKRWUMI ZKR XKRQUKR ZKIGMDDKKR UKDGIMAKR--|--G DG HJDMIMSQK ZK RKWQUMIK ZKR RNRIKXKR ZMPBJUXGIMJP ZK DKIGI ZQ--|--RKPKVGD HRRMKR  \n",
      "\n",
      "\n",
      "LES MENACES INTERNES CONSTITUENT UN DES PLUS GROS RISQUES POUR--|--TOUTES LES ORGANISATIONS Y COMPRIS CELLES AU SENEGAL LES EMPLOYES DES ORGANISATIONS AYANT ACCES AUX SYSTEMES ET AUX DONNEES CRITIQUES SONT EUXMEMES UNE MENACE CAR POUVANT CAUSER DES--|--DOMMAGES FINANCIERS ET DES DOMMAGES A LA REPUTATION A TRAVERS LE--|--VOL DE DONNEES SENSIBLES CES EMPLOYES PEUVENT EGALEMENT UTILISER LEUR CONNAISSANCE DE LORGANISATION DANS LE BUT DE PERMETTRE OU DE PERPETRER UNE ATTAQUE VISANT A PERTURBER LE BON FONCTIONNEMENT DE LEUR ORGANISATION OUTRE CES ACTES DELIBERES LES--|--EMPLOYES PEUVENT CAUSER DES DOMMAGES PAR INADVERTANCE DU FAIT--|--DE LEUR IGNORANCE DES PROCEDURES DE SECURITE DE LORGANISATION--|--NOTAMMENT PAR LE TELECHARGEMENT DES CONTENUS NON SURS LUSAGE DE--|--PERIPHERIQUES INFECTES OU EN OUVRANT DU COURRIEL DHAMECONNAGE--|--CES EMPLOYES PEUVENT EGALEMENT DEVENIR DES VICTIMES DACTES--|--DINGENIERIE SOCIALE A TRAVERS LESQUELS ILS DONNENT ALORS PAR--|--IGNORANCE ACCES A LEURS RESEAUX OU EXECUTENT DES INSTRUCTIONS--|--AUX APPARENCES INOFFENSIVES MAIS PROFITANT AUX CYBERCRIMINELS A CET EGARD LA PRESIDENCE DE LA REPUBLIQUE AGISSANT PAR--|--LINTERMEDIAIRE DE LA COMMISSION NATIONALE DE CRYPTOLOGIE CNC A--|--PRIS LES DEVANTS ET A PRESCRIT DES MESURES DETAILLEES RELATIVES--|--A LA POLITIQUE DE SECURITE DES SYSTEMES DINFORMATION DE LETAT DU--|--SENEGAL PSSIES \n"
     ]
    }
   ],
   "source": [
    "test1 = msg_test2\n",
    "dico_corresp_letter_cypher = {}\n",
    "dico_corresp_letter_cypher[\"E\"] = \"K\"\n",
    "dico_corresp_letter_cypher[\"S\"] = \"R\"\n",
    "dico_corresp_letter_cypher[\"A\"] = \"G\"\n",
    "dico_corresp_letter_cypher[\"L\"] = \"D\"\n",
    "dico_corresp_letter_cypher[\"Y\"] = \"N\"\n",
    "dico_corresp_letter_cypher[\"N\"] = \"P\"\n",
    "dico_corresp_letter_cypher[\"T\"] = \"I\"\n",
    "dico_corresp_letter_cypher[\"R\"] = \"U\"\n",
    "dico_corresp_letter_cypher[\"D\"] = \"Z\"\n",
    "dico_corresp_letter_cypher[\"C\"] = \"W\"\n",
    "dico_corresp_letter_cypher[\"M\"] = \"X\"\n",
    "dico_corresp_letter_cypher[\"D\"] = \"Z\"\n",
    "dico_corresp_letter_cypher[\"O\"] = \"J\"\n",
    "dico_corresp_letter_cypher[\"G\"] = \"V\"\n",
    "dico_corresp_letter_cypher[\"U\"] = \"Q\"\n",
    "dico_corresp_letter_cypher[\"I\"] = \"M\"\n",
    "dico_corresp_letter_cypher[\"P\"] = \"H\"\n",
    "dico_corresp_letter_cypher[\"Q\"] = \"S\"\n",
    "dico_corresp_letter_cypher[\"X\"] = \"Y\"\n",
    "dico_corresp_letter_cypher[\"V\"] = \"A\"\n",
    "dico_corresp_letter_cypher[\"F\"] = \"B\"\n",
    "dico_corresp_letter_cypher[\"B\"] = \"O\"\n",
    "dico_corresp_letter_cypher[\"H\"] = \"F\"\n",
    "\n",
    "for key in dico_corresp_letter_cypher:\n",
    "    test1 = test1.replace(dico_corresp_letter_cypher[key], key.lower())\n",
    "\n",
    "print(msg_test2,\"\\n\\n\")\n",
    "print(test1.upper())"
   ]
  }
 ],
 "metadata": {
  "kernelspec": {
   "display_name": "Python 3",
   "language": "python",
   "name": "python3"
  },
  "language_info": {
   "codemirror_mode": {
    "name": "ipython",
    "version": 3
   },
   "file_extension": ".py",
   "mimetype": "text/x-python",
   "name": "python",
   "nbconvert_exporter": "python",
   "pygments_lexer": "ipython3",
   "version": "3.8.3"
  }
 },
 "nbformat": 4,
 "nbformat_minor": 2
}
