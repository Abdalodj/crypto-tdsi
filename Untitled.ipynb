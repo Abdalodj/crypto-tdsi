{
 "cells": [
  {
   "cell_type": "code",
   "execution_count": 2,
   "metadata": {},
   "outputs": [],
   "source": [
    "def hex_bin(string):\n",
    "    return \" \".join(\n",
    "        reversed([i + j for i, j in zip(*[[\"{0:04b}\".format(int(c, 16)) for c in reversed(\"0\" + string)][n::2] for n\n",
    "                                          in [1, 0]])]))\n",
    "\n",
    "\n",
    "def bin_hex(string):\n",
    "    return hex(int(string, 2))"
   ]
  },
  {
   "cell_type": "code",
   "execution_count": 3,
   "metadata": {},
   "outputs": [
    {
     "name": "stdout",
     "output_type": "stream",
     "text": [
      "0x85e813540f0ab405\n"
     ]
    }
   ],
   "source": [
    "print(bin_hex(\"1000010111101000000100110101010000001111000010101011010000000101\"))"
   ]
  },
  {
   "cell_type": "code",
   "execution_count": 10,
   "metadata": {},
   "outputs": [
    {
     "name": "stdout",
     "output_type": "stream",
     "text": [
      "1000010111101000000100110101010000001111000010101011010000000101\n",
      "1000010111101000000100110101010000001111000010101011010000000101\n"
     ]
    }
   ],
   "source": [
    "print(hex_bin(\"85e813540f0ab405\").replace(\" \",\"\"))\n",
    "print(\"1000010111101000000100110101010000001111000010101011010000000101\")"
   ]
  }
 ],
 "metadata": {
  "kernelspec": {
   "display_name": "Python 3",
   "language": "python",
   "name": "python3"
  },
  "language_info": {
   "codemirror_mode": {
    "name": "ipython",
    "version": 3
   },
   "file_extension": ".py",
   "mimetype": "text/x-python",
   "name": "python",
   "nbconvert_exporter": "python",
   "pygments_lexer": "ipython3",
   "version": "3.7.4"
  }
 },
 "nbformat": 4,
 "nbformat_minor": 2
}
