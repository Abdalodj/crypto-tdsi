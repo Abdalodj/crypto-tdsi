{
 "cells": [
  {
   "cell_type": "code",
   "execution_count": 1,
   "metadata": {},
   "outputs": [],
   "source": [
    "def int_bin(integer):\n",
    "    return '{0:04b}'.format(integer)\n",
    "\n",
    "\n",
    "def str_bin(string):\n",
    "    return \" \".join(f\"{ord(i):08b}\" for i in string)\n",
    "\n",
    "\n",
    "def hex_bin(string):\n",
    "    return \" \".join(\n",
    "        reversed([i + j for i, j in zip(*[[\"{0:04b}\".format(int(c, 16)) for c in reversed(\"0\" + string)][n::2] for n\n",
    "                                          in [1, 0]])]))\n",
    "\n",
    "\n",
    "def bin_hex(string):\n",
    "    return hex(int(string, 2))\n",
    "\n",
    "\n",
    "def bin_str(string):\n",
    "    string_list = split_in(string)\n",
    "    return \"\".join([chr(int(binary, 2)) for binary in string_list])\n",
    "\n",
    "\n",
    "def split_in(block, char=8):\n",
    "    return [block[i:i + char] for i in range(0, len(block), char)]\n",
    "\n",
    "\n",
    "def get_first_and_last_bit(bits6):\n",
    "    two_bits = bits6[0] + bits6[-1]\n",
    "    return int(two_bits, 2)\n",
    "\n",
    "\n",
    "def get_middle_four_bit(bits6):\n",
    "    four_bits = bits6[1:5]\n",
    "    return int(four_bits, 2)\n",
    "\n",
    "\n",
    "def split_block(block):\n",
    "    k1 = \"\"\n",
    "    k2 = \"\"\n",
    "    for i in range(len(block)):\n",
    "        if i < (len(block) / 2):\n",
    "            k1 += block[i]\n",
    "        else:\n",
    "            k2 += block[i]\n",
    "    return k1, k2"
   ]
  },
  {
   "cell_type": "code",
   "execution_count": 2,
   "metadata": {},
   "outputs": [],
   "source": [
    "def permutation(string, arr_perm):\n",
    "    per = \"\"\n",
    "    for i in arr_perm:\n",
    "        per += string[i - 1]\n",
    "    return per\n",
    "\n",
    "\n",
    "def shift_left(string, shifts):\n",
    "    s = \"\"\n",
    "    for i in range(shifts):\n",
    "        for j in range(1, 28):\n",
    "            s += string[j]\n",
    "        s += string[0]\n",
    "        string = s\n",
    "        s = \"\"\n",
    "    return string\n",
    "\n",
    "\n",
    "def xor(text1, text2):\n",
    "    ans = \"\"\n",
    "    for i in range(len(text1)):\n",
    "        if text1[i] == text2[i]:\n",
    "            ans += \"0\"\n",
    "        else:\n",
    "            ans += \"1\"\n",
    "    return ans\n",
    "\n",
    "\n",
    "def rounds(gi, di, ki):\n",
    "    return di, xor(util_func(di, ki), gi)\n",
    "\n",
    "\n",
    "def sub_keys(key):\n",
    "    key_bin1 = hex_bin(key)\n",
    "    key_bin1 = key_bin1.replace(\" \", \"\")\n",
    "    key_bin_perm = permutation(key_bin1, key_perm1)\n",
    "    key1, key2 = split_block(key_bin_perm)\n",
    "    subkeys = [shift_left(key1, i) + shift_left(key2, i) for i in shift_list]\n",
    "    subkeys = [permutation(i, key_perm2) for i in subkeys]\n",
    "    return subkeys\n",
    "\n",
    "\n",
    "def substitution(block):\n",
    "    block_chain_6bits = split_in(block, char=6)\n",
    "    block_chain_4bits = []\n",
    "    block_chain_4bits += [\n",
    "        int_bin(SBOX_DES[i][get_first_and_last_bit(block_chain_6bits[i])][get_middle_four_bit(block_chain_6bits[i])])\n",
    "        for i in range(len(block_chain_6bits))]\n",
    "    return \"\".join(block_chain_4bits)\n",
    "\n",
    "\n",
    "def util_func(di, ki):\n",
    "    return permutation(substitution(xor(permutation(di, expansion), ki)), perm_32bit)"
   ]
  },
  {
   "cell_type": "code",
   "execution_count": 3,
   "metadata": {},
   "outputs": [],
   "source": [
    "def cipher(key64bit, message, form_key, form_msg):\n",
    "    subkey = sub_keys(key=key64bit, form=\"str_str\")\n",
    "    message = hex_bin(message.replace(\" \", \"\"))\n",
    "    mess_block = split_in(message.replace(\" \", \"\"), char=64)\n",
    "    ciphered = \"\"\n",
    "    for mes in mess_block:\n",
    "        g0, d0 = split_block(permutation(mes.replace(\" \", \"\"), initial_perm))\n",
    "        gn, dn = g0, d0\n",
    "        for x in range(16):\n",
    "            gn, dn = rounds(gn, dn, subkey[x])\n",
    "        final_msg = dn + \"\" + gn\n",
    "        ciphered += bin_str(permutation(final_msg, final_perm)) if form_msg == \"str\" else bin_hex(\n",
    "            permutation(final_msg, final_perm)) + \" \"\n",
    "    return ciphered[2:]"
   ]
  },
  {
   "cell_type": "code",
   "execution_count": 4,
   "metadata": {
    "scrolled": false
   },
   "outputs": [
    {
     "name": "stdout",
     "output_type": "stream",
     "text": [
      "85e813540f0ab405 \n"
     ]
    }
   ],
   "source": [
    "print(cipher(\"133457799BBCDFF1\", \"0123456789ABCDEF\", \"hex\", \"hex\"))"
   ]
  },
  {
   "cell_type": "code",
   "execution_count": 5,
   "metadata": {},
   "outputs": [],
   "source": [
    "def decipher(key64bit, message, form_key, form_msg):\n",
    "    initial_perm = [58, 50, 42, 34, 26, 18, 10, 2,\n",
    "                    60, 52, 44, 36, 28, 20, 12, 4,\n",
    "                    62, 54, 46, 38, 30, 22, 14, 6,\n",
    "                    64, 56, 48, 40, 32, 24, 16, 8,\n",
    "                    57, 49, 41, 33, 25, 17, 9, 1,\n",
    "                    59, 51, 43, 35, 27, 19, 11, 3,\n",
    "                    61, 53, 45, 37, 29, 21, 13, 5,\n",
    "                    63, 55, 47, 39, 31, 23, 15, 7]\n",
    "    final_perm = [40, 8, 48, 16, 56, 24, 64, 32, 39, 7, 47, 15,\n",
    "                  55, 23, 63, 31, 38, 6, 46, 14, 54, 22, 62, 30,\n",
    "                  37, 5, 45, 13, 53, 21, 61, 29, 36, 4, 44, 12,\n",
    "                  52, 20, 60, 28, 35, 3, 43, 11, 51, 19, 59, 27,\n",
    "                  34, 2, 42, 10, 50, 18, 58, 26, 33, 1, 41, 9,\n",
    "                  49, 17, 57, 25]\n",
    "    subkey = sub_keys(key)\n",
    "    message = hex_bin(message.replace(\" \", \"\"))\n",
    "    subkey.reverse()\n",
    "    mess_block = split_in(message.replace(\" \", \"\"), char=64)\n",
    "    ciphered = \"\"\n",
    "    for mes in mess_block:\n",
    "        g0, d0 = split_block(permutation(mes.replace(\" \", \"\"), initial_perm))\n",
    "        gn, dn = g0, d0\n",
    "        for x in range(16):\n",
    "            gn, dn = rounds(gn, dn, subkey[x])\n",
    "        final_msg = dn + \"\" + gn\n",
    "        ciphered += bin_str(permutation(final_msg, final_perm)) if form_msg == \"str\" else bin_hex(\n",
    "            permutation(final_msg, final_perm)) + \" \"\n",
    "    return ciphered[2:]"
   ]
  },
  {
   "cell_type": "code",
   "execution_count": 6,
   "metadata": {},
   "outputs": [
    {
     "name": "stdout",
     "output_type": "stream",
     "text": [
      "123456789abcdef \n"
     ]
    }
   ],
   "source": [
    "print(decipher(\"133457799BBCDFF1\", \"85E813540F0AB405\", \"hex\", \"hex\"))"
   ]
  }
 ],
 "metadata": {
  "kernelspec": {
   "display_name": "Python 3",
   "language": "python",
   "name": "python3"
  },
  "language_info": {
   "codemirror_mode": {
    "name": "ipython",
    "version": 3
   },
   "file_extension": ".py",
   "mimetype": "text/x-python",
   "name": "python",
   "nbconvert_exporter": "python",
   "pygments_lexer": "ipython3",
   "version": "3.7.4"
  }
 },
 "nbformat": 4,
 "nbformat_minor": 2
}
