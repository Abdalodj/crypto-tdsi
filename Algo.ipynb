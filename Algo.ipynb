{
 "cells": [
  {
   "cell_type": "code",
   "execution_count": 8,
   "metadata": {},
   "outputs": [],
   "source": [
    "def euclidePGCD(a,b):\n",
    "    while b != 0:\n",
    "        r = a % b\n",
    "        a = b\n",
    "        b = r\n",
    "    return a"
   ]
  },
  {
   "cell_type": "code",
   "execution_count": 9,
   "metadata": {},
   "outputs": [],
   "source": [
    "def euclideEtendu(a, b):\n",
    "    r1 = a \n",
    "    r2 = b\n",
    "    u1 = 1\n",
    "    v1 = 0\n",
    "    u2 = 0\n",
    "    v2 = 1\n",
    "    while r > 0:\n",
    "        q = r1 // r2\n",
    "        r3 = r1 \n",
    "        u3 = u1 \n",
    "        v3 = v1\n",
    "        r1 = r2 \n",
    "        u1 = u2 \n",
    "        v1 = v2\n",
    "        r2 = r3 - q*r2 \n",
    "        u2 = u3 - q*u2 \n",
    "        v2 = v3 - q*v2\n",
    "    return u1, v1, r1"
   ]
  },
  {
   "cell_type": "code",
   "execution_count": 10,
   "metadata": {},
   "outputs": [],
   "source": [
    "def inverseEntier(a, n):\n",
    "    u,v,d = euclideEtendu(a, n)\n",
    "    return u % n"
   ]
  },
  {
   "cell_type": "code",
   "execution_count": 11,
   "metadata": {},
   "outputs": [],
   "source": [
    "def puissanceRapide(a, m, n):\n",
    "    b = 1\n",
    "    if m == 0:\n",
    "        return b\n",
    "    else:\n",
    "        ga = a\n",
    "        bin_m = bin(m)[2:]\n",
    "        for k in bin_m:\n",
    "            ga = (ga**2) % n\n",
    "            if k == 1:\n",
    "                b = ga * b\n",
    "        return b"
   ]
  },
  {
   "cell_type": "code",
   "execution_count": null,
   "metadata": {},
   "outputs": [],
   "source": []
  }
 ],
 "metadata": {
  "kernelspec": {
   "display_name": "Python 3",
   "language": "python",
   "name": "python3"
  },
  "language_info": {
   "codemirror_mode": {
    "name": "ipython",
    "version": 3
   },
   "file_extension": ".py",
   "mimetype": "text/x-python",
   "name": "python",
   "nbconvert_exporter": "python",
   "pygments_lexer": "ipython3",
   "version": "3.8.3"
  }
 },
 "nbformat": 4,
 "nbformat_minor": 2
}
